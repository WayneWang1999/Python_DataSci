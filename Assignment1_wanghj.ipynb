{
 "cells": [
  {
   "cell_type": "code",
   "execution_count": null,
   "id": "f7e88800",
   "metadata": {},
   "outputs": [],
   "source": [
    "Question 1. Count Symbols - 3 points\n",
    "In this question, you are given a string s which represents a DNA string. The string s consists of symbols 'A', 'C', 'G', \n",
    "and 'T'. An example of a length 21 DNA string is \"ATGCTTCAGAAAGGTCTTACG.\"\n",
    "\n",
    "Your task is to write a code which will count the number of times each of the symbols 'A', 'C', 'G', \n",
    "and 'T' occur in s. The output should be a list of 4 integers."
   ]
  },
  {
   "cell_type": "code",
   "execution_count": null,
   "id": "17ee5d28",
   "metadata": {},
   "outputs": [],
   "source": [
    "This is my first Python program in 2022-06-02. @Haijun Wang"
   ]
  },
  {
   "cell_type": "code",
   "execution_count": 1,
   "id": "b8e197ee",
   "metadata": {},
   "outputs": [
    {
     "name": "stdout",
     "output_type": "stream",
     "text": [
      "ATGCTTCAGAAAGGTCTTACG.\n",
      "the symbol A number is 6 ,the symbol C number is 4 ,the symbol G number is 5 ,the symbol  T number is 6\n"
     ]
    }
   ],
   "source": [
    "s1=\"ATGCTTCAGAAAGGTCTTACG.\"\n",
    "print(s1)\n",
    "\n",
    "num_A=num_C=num_G=num_T=0\n",
    "\n",
    "for char in s1:\n",
    "    if char==\"A\":\n",
    "        num_A=num_A + 1\n",
    "    if char==\"C\":\n",
    "        num_C=num_C+1\n",
    "    if char==\"G\":\n",
    "        num_G=num_G+1\n",
    "    if char==\"T\":\n",
    "        num_T=num_T+1\n",
    "print(\"the symbol A number is \"+str(num_A),\",the symbol C number is \"+str(num_C),\n",
    "      \",the symbol G number is \"+ str(num_G),\",the symbol  T number is \"+str(num_T))"
   ]
  },
  {
   "cell_type": "code",
   "execution_count": null,
   "id": "b7a23b32",
   "metadata": {},
   "outputs": [],
   "source": [
    "Question 2. Find a substring - 4 points\n",
    "You are given a dictionary of the US states and their capitals. The keys in the dictionary are states and the values \n",
    "are capital names.\n",
    "\n",
    "Write a code to return a list of all capitals that contain the name of a state in their name as a substring.\n",
    "\n",
    "I found the list from the google doc.I copy it to the USA_State_Capital.txt. \n",
    "\n",
    "Alabama, Montgomery\n",
    "Alaska, Juneau\n",
    "Arizona, Phoenix\n",
    "Arkansas, Little Rock\n",
    "California, Sacramento\n",
    "Colorado, Denver \n",
    "Connecticut, Hartford\n",
    "Delaware, Dover\n",
    "Florida, Tallahassee \n",
    "Georgia ,Atlanta\n",
    "Hawaii, Honolulu\n",
    "Idaho ,Boise\n",
    "Illinois, Springfield\n",
    "Indiana,Indianapolis\n",
    "Iowa,Des Moines\n",
    "Kansas, Topeka\n",
    "Kentucky, Frankfort\n",
    "Louisiana ,Baton Rouge\n",
    "Maine ,Augusta\n",
    "Maryland, Annapolis\n",
    "Massachusetts, Boston\n",
    "Michigan, Lansing\n",
    "Minnesota ,Saint Paul\n",
    "Mississippi, Jackson\n",
    "Missouri ,Jefferson City\n",
    "Montana, Helena\n",
    "Nebraska, Lincoln\n",
    "Nevada ,Carson City\n",
    "New Hampshire, Concord \n",
    "New Jersey, Trenton\n",
    "New Mexico, Santa Fe\n",
    "New York, Albany\n",
    "North Carolina, Raleigh\n",
    "North Dakota, Bismarck\n",
    "Ohio, Columbus\n",
    "Oklahoma, Oklahoma City\n",
    "Oregon, Salem\n",
    "Pennsylvania ,Harrisburg\n",
    "Rhode Island, Providence\n",
    "South Carolina, Columbia\n",
    "South Dakota, Pierre\n",
    "Tennessee,Nashville\n",
    "Texas,Austin\n",
    "Utah,Salt Lake City\n",
    "Vermont,Montpelier\n",
    "Virginia,Richmond\n",
    "Washington,Olympia\n",
    "West Virginia,Charleston\n",
    "Wisconsin,Madison\n",
    "Wyoming,Cheyenne"
   ]
  },
  {
   "cell_type": "code",
   "execution_count": null,
   "id": "368f1171",
   "metadata": {},
   "outputs": [],
   "source": [
    "file_object = open('USA_State_Capital.txt', 'r')\n",
    "\n",
    "list_state=[]\n",
    "list_capital=[]\n",
    "for line in file_object:\n",
    "    list_one_state=line.split(\",\")\n",
    "    if list_one_state[0].strip() in list_one_state[1].strip():\n",
    "        list_state.append(list_one_state[0].strip())\n",
    "        list_capital.append(list_one_state[1].strip())\n",
    "   \n",
    "print(list_capital)\n",
    "\n",
    "\n"
   ]
  },
  {
   "cell_type": "code",
   "execution_count": null,
   "id": "3495ea83",
   "metadata": {},
   "outputs": [],
   "source": [
    "Question 3. Is a point within a rectangle? - 4 points\n",
    "Write a function isIn() which returns True if a point is within a rectangle specified by two sets of coordinates\n",
    "and False if the point is outside the rectangle. The function should accept three parameters:\n",
    "\n",
    "the first parameter is a set of coordinates which defines the left corner of the rectangle (either bottom left or top left),\n",
    "the second set of coordinates defines the right corner,\n",
    "the third set of coordinates defines a single point which is being tested.\n",
    "For example,\n",
    "\n",
    "isIn((1,2), (3,4), (1.5, 3.2)) should return True\n",
    "isIn((-1,0), (5,5), (6,0)) should return False\n",
    "Test your function with at least 3 different sets of data points.\n",
    "\n",
    "NOTE: If the point being tested is on the side of the rectangle, consider it to be within the rectangle.\n",
    "    For example, if the rectangle is defined as (1,2), (3,4) and the point is (3,3), the function should return True."
   ]
  },
  {
   "cell_type": "code",
   "execution_count": null,
   "id": "37e87618",
   "metadata": {},
   "outputs": [],
   "source": [
    "def isIn(site1,site2,site):\n",
    "    x1=site1[0]\n",
    "    y1=site1[1]\n",
    "    x2=site2[0]\n",
    "    y2=site2[1]\n",
    "    x=site[0]\n",
    "    y=site[1]\n",
    "    \n",
    "    if x1<=x and x<=x2:\n",
    "        if y1<=y and y<=y2:\n",
    "            return True\n",
    "        else:\n",
    "            return False\n",
    "    else:\n",
    "        return False\n",
    "\n",
    "\n"
   ]
  },
  {
   "cell_type": "code",
   "execution_count": null,
   "id": "5384e3e1",
   "metadata": {},
   "outputs": [],
   "source": [
    "isIn((0,0), (4,4), (5, 3))\n"
   ]
  },
  {
   "cell_type": "code",
   "execution_count": null,
   "id": "27cda98e",
   "metadata": {},
   "outputs": [],
   "source": [
    "Question 4. Is a list of points within a rectangle? - 4 points\n",
    "Modify your function from the previous question so it takes a list of points rather than a single point\n",
    "and returns True only if all points in the list are in the rectangle.\n",
    "\n",
    "For example,\n",
    "\n",
    "allIn((0,0), (5,5), [(1,1), (0,0), (5,5)]) should return True\n",
    "but allIn((0,0), (5,5), [(1,1), (0,0), (5,6)]) should return False\n",
    "Use the same assumption as above about the placement of the points."
   ]
  },
  {
   "cell_type": "code",
   "execution_count": null,
   "id": "45359917",
   "metadata": {},
   "outputs": [],
   "source": [
    "def allIn(site1,site2,allsite):\n",
    "    x1=site1[0]\n",
    "    y1=site1[1]\n",
    "    x2=site2[0]\n",
    "    y2=site2[1]\n",
    "    isInside=True\n",
    "    for site in allsite:\n",
    "        x=site[0]\n",
    "        y=site[1]\n",
    "        if x1<=x and x<=x2:\n",
    "            if y1<=y and y<=y2:\n",
    "                isInside=isInside and True\n",
    "            else:\n",
    "                isInside=isInside and False\n",
    "        else:\n",
    "            isInside=isInside and False\n",
    "    return isInside"
   ]
  },
  {
   "cell_type": "code",
   "execution_count": null,
   "id": "e51607ef",
   "metadata": {},
   "outputs": [],
   "source": [
    "allIn((0,0), (5,5), [(8,1), (5,6), (5,4)])"
   ]
  },
  {
   "cell_type": "code",
   "execution_count": null,
   "id": "19d66f4f",
   "metadata": {},
   "outputs": [],
   "source": []
  }
 ],
 "metadata": {
  "kernelspec": {
   "display_name": "Python 3 (ipykernel)",
   "language": "python",
   "name": "python3"
  },
  "language_info": {
   "codemirror_mode": {
    "name": "ipython",
    "version": 3
   },
   "file_extension": ".py",
   "mimetype": "text/x-python",
   "name": "python",
   "nbconvert_exporter": "python",
   "pygments_lexer": "ipython3",
   "version": "3.10.4"
  }
 },
 "nbformat": 4,
 "nbformat_minor": 5
}
